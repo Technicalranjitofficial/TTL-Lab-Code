{
 "cells": [
  {
   "cell_type": "code",
   "execution_count": null,
   "metadata": {},
   "outputs": [],
   "source": [
    "#Check Even or Odd\n",
    "def checOddEven():\n",
    "    num = int(input(\"Enter a number: \"))\n",
    "    if num % 2 == 0:\n",
    "        print(\"Number is Even\")\n",
    "    else:\n",
    "        print(\"Number is Odd\")\n",
    "checOddEven()"
   ]
  }
 ],
 "metadata": {
  "language_info": {
   "name": "python"
  }
 },
 "nbformat": 4,
 "nbformat_minor": 2
}
