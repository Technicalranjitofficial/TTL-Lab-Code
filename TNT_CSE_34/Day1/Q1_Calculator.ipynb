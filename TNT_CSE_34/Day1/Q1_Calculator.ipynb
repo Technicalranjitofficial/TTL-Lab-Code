{
 "cells": [
  {
   "cell_type": "markdown",
   "metadata": {},
   "source": [
    "## CALCULATOR"
   ]
  },
  {
   "cell_type": "code",
   "execution_count": 6,
   "metadata": {},
   "outputs": [
    {
     "name": "stdout",
     "output_type": "stream",
     "text": [
      "Select operation:\n",
      "1. Add\n",
      "2. Subtract\n",
      "3. Multiply\n",
      "4. Divide\n",
      "Added Number is : 10.0\n"
     ]
    }
   ],
   "source": [
    "\n",
    "def add(x, y):\n",
    "    return x + y\n",
    "\n",
    "def subtract(x, y):\n",
    "    return x - y\n",
    "\n",
    "def multiply(x, y):\n",
    "    return x * y\n",
    "\n",
    "def divide(x, y):\n",
    "    if y != 0:\n",
    "        return x / y\n",
    "    else:\n",
    "        return \"It is not divisible\"\n",
    "\n",
    "print(\"Select operation:\")\n",
    "print(\"1. Add\")\n",
    "print(\"2. Subtract\")\n",
    "print(\"3. Multiply\")\n",
    "print(\"4. Divide\")\n",
    "\n",
    "choice = input(\"Enter choice (1-4): \")\n",
    "\n",
    "num1 = float(input(\"Enter first number: \"))\n",
    "num2 = float(input(\"Enter second number: \"))\n",
    "\n",
    "if choice == '1':\n",
    "    result = add(num1, num2)\n",
    "    print(\"Added Number is :\", result)\n",
    "elif choice == '2':\n",
    "    result = subtract(num1, num2)\n",
    "    print(\"Result:\", result)\n",
    "elif choice == '3':\n",
    "    result = multiply(num1, num2)\n",
    "    print(\"Result:\", result)\n",
    "elif choice == '4':\n",
    "    result = divide(num1, num2)\n",
    "    print(\"Result:\", result)\n",
    "else:\n",
    "    print(\"Invalid input.Enter Valid Choice\")\n"
   ]
  },
  {
   "cell_type": "markdown",
   "metadata": {},
   "source": [
    "## Area Of Reactangle"
   ]
  },
  {
   "cell_type": "code",
   "execution_count": 2,
   "metadata": {},
   "outputs": [
    {
     "name": "stdout",
     "output_type": "stream",
     "text": [
      "Enter the radius of the circle\n",
      "Radius of the circle is  5.0\n",
      "Area of the circle is  78.5\n"
     ]
    }
   ],
   "source": [
    "\n",
    "def Area():\n",
    "    print(\"Enter the radius of the circle\")\n",
    "    radius = float(input())\n",
    "    print(\"Radius of the circle is \", radius)\n",
    "    area = 3.14 * radius * radius\n",
    "    print(\"Area of the circle is \", area)\n",
    "    \n",
    "Area()"
   ]
  },
  {
   "cell_type": "markdown",
   "metadata": {},
   "source": []
  },
  {
   "cell_type": "markdown",
   "metadata": {},
   "source": [
    "## Q3 Celcius To Fahrenheit"
   ]
  },
  {
   "cell_type": "code",
   "execution_count": 4,
   "metadata": {},
   "outputs": [
    {
     "name": "stdout",
     "output_type": "stream",
     "text": [
      "Enter the temperature in celcius\n",
      "Temperature in celcius is  36.0\n",
      "Temperature in fahrenheit is  96.8\n"
     ]
    }
   ],
   "source": [
    "\n",
    "def convertCelciusToFarhenheit():\n",
    "    print(\"Enter the temperature in celcius\")\n",
    "    celcius = float(input())\n",
    "    print(\"Temperature in celcius is \", celcius)\n",
    "    fahrenheit = (celcius * 9/5) + 32\n",
    "    print(\"Temperature in fahrenheit is \", fahrenheit)\n",
    "    \n",
    "convertCelciusToFarhenheit()"
   ]
  },
  {
   "cell_type": "markdown",
   "metadata": {},
   "source": [
    "## Q4 Quadratic Equcation Solver"
   ]
  },
  {
   "cell_type": "code",
   "execution_count": 5,
   "metadata": {},
   "outputs": [
    {
     "name": "stdout",
     "output_type": "stream",
     "text": [
      "Equation: 4.0x^2 + 5.0x + 6.0\n",
      "Root 1: (-0.625+1.0532687216470449j)\n",
      "Root 2: (-0.625-1.0532687216470449j)\n"
     ]
    }
   ],
   "source": [
    "import cmath\n",
    "def quadratic_solver(a, b, c):\n",
    "    delta = cmath.sqrt(b**2 - 4*a*c)\n",
    "\n",
    "    root1 = (-b + delta) / (2 * a)\n",
    "    root2 = (-b - delta) / (2 * a)\n",
    "\n",
    "    return root1, root2\n",
    "\n",
    "a = float(input(\"Enter the coefficient a: \"))\n",
    "b = float(input(\"Enter the coefficient b: \"))\n",
    "c = float(input(\"Enter the coefficient c: \"))\n",
    "\n",
    "print(\"Equation: {}x^2 + {}x + {}\".format(a, b, c))\n",
    "\n",
    "roots = quadratic_solver(a, b, c)\n",
    "print(\"Root 1:\", roots[0])\n",
    "print(\"Root 2:\", roots[1])\n"
   ]
  },
  {
   "cell_type": "markdown",
   "metadata": {},
   "source": [
    "## Q5 Check Odd Even"
   ]
  },
  {
   "cell_type": "code",
   "execution_count": 7,
   "metadata": {},
   "outputs": [
    {
     "name": "stdout",
     "output_type": "stream",
     "text": [
      "Number is  5\n",
      "Number is Odd\n"
     ]
    }
   ],
   "source": [
    "#Check Even or Odd\n",
    "def checOddEven():\n",
    "    num = int(input(\"Enter a number: \"))\n",
    "    print(\"Number is \", num)\n",
    "    if num % 2 == 0:\n",
    "        print(\"Number is Even\")\n",
    "    else:\n",
    "        print(\"Number is Odd\")\n",
    "checOddEven()"
   ]
  },
  {
   "cell_type": "markdown",
   "metadata": {},
   "source": []
  },
  {
   "cell_type": "markdown",
   "metadata": {},
   "source": [
    "## Q6 Simple Interest Calculator"
   ]
  },
  {
   "cell_type": "code",
   "execution_count": 8,
   "metadata": {},
   "outputs": [
    {
     "name": "stdout",
     "output_type": "stream",
     "text": [
      "Principal Amount is:  600.0\n",
      "Rate of Interest is:  10.0\n",
      "Time Period is:  3.0\n",
      "The Simple Interest is:  180.0\n"
     ]
    }
   ],
   "source": [
    "#Simple Interest Calculator\n",
    "def SimpleInterestCalculator():\n",
    "    p = float(input(\"Enter the Principal Amount: \"))\n",
    "    r = float(input(\"Enter the Rate of Interest: \"))\n",
    "    t = float(input(\"Enter the Time Period: \"))\n",
    "    print(\"Principal Amount is: \", p)\n",
    "    print(\"Rate of Interest is: \", r)\n",
    "    print(\"Time Period is: \", t)\n",
    "    \n",
    "    si = (p * r * t) / 100\n",
    "    print(\"The Simple Interest is: \", si)\n",
    "SimpleInterestCalculator()"
   ]
  },
  {
   "cell_type": "markdown",
   "metadata": {},
   "source": [
    "## Q7 Check Leap Year"
   ]
  },
  {
   "cell_type": "code",
   "execution_count": 9,
   "metadata": {},
   "outputs": [
    {
     "name": "stdout",
     "output_type": "stream",
     "text": [
      "Entered Year is  2020\n",
      "Leap Year\n"
     ]
    }
   ],
   "source": [
    "#Check Leap Year\n",
    "def ChecLeapYear():\n",
    "    year = int(input(\"Enter the year: \"))\n",
    "    print(\"Entered Year is \", year)\n",
    "    if year % 4 == 0:\n",
    "        if year % 100 == 0:\n",
    "            if year % 400 ==0:\n",
    "                print(\"Leap Year\")\n",
    "            else:\n",
    "                print(\"Not Leap Year\")\n",
    "        else:\n",
    "            print(\"Leap Year\")\n",
    "    else:\n",
    "        print(\"Not Leap Year\")\n",
    "ChecLeapYear()"
   ]
  },
  {
   "cell_type": "markdown",
   "metadata": {},
   "source": [
    "## Q8 String Cancatenation"
   ]
  },
  {
   "cell_type": "code",
   "execution_count": 11,
   "metadata": {},
   "outputs": [
    {
     "name": "stdout",
     "output_type": "stream",
     "text": [
      "String 1 is  Hello\n",
      "String 2 is  World\n",
      "HelloWorld\n"
     ]
    }
   ],
   "source": [
    "def StringCanCatenation():\n",
    "    string1 = input(\"Enter the string 1\")\n",
    "    string2 = input(\"Enter the string 2\")\n",
    "    print(\"String 1 is \", string1)\n",
    "    print(\"String 2 is \", string2)\n",
    "    \n",
    "    string3 = string1 + string2\n",
    "    print(string3)\n",
    "StringCanCatenation()"
   ]
  },
  {
   "cell_type": "markdown",
   "metadata": {},
   "source": [
    "## Q9 Find Maxmium of Three Number"
   ]
  },
  {
   "cell_type": "code",
   "execution_count": 12,
   "metadata": {},
   "outputs": [
    {
     "name": "stdout",
     "output_type": "stream",
     "text": [
      "First Number is:  5\n",
      "Second Number is:  6\n",
      "Third Number is:  7\n",
      "Maximum Number is:  7\n"
     ]
    }
   ],
   "source": [
    "#Find Maximum of Three Numbers:\n",
    "def FindMaxNumber():\n",
    "    number1 = int(input(\"Enter First Number: \"))\n",
    "    number2 = int(input(\"Enter Second Number: \"))\n",
    "    number3 = int(input(\"Enter Third Number: \"))\n",
    "    print(\"First Number is: \", number1)\n",
    "    print(\"Second Number is: \", number2)\n",
    "    print(\"Third Number is: \", number3)\n",
    "    \n",
    "    if number1 > number2 and number1 > number3:\n",
    "        print(\"Maximum Number is: \", number1)\n",
    "    elif number2 > number1 and number2 > number3:\n",
    "        print(\"Maximum Number is: \", number2)\n",
    "    else:\n",
    "        print(\"Maximum Number is: \", number3)\n",
    "        \n",
    "FindMaxNumber()"
   ]
  },
  {
   "cell_type": "markdown",
   "metadata": {},
   "source": [
    "## Q10 Find Factorial of any Number"
   ]
  },
  {
   "cell_type": "code",
   "execution_count": 13,
   "metadata": {},
   "outputs": [
    {
     "name": "stdout",
     "output_type": "stream",
     "text": [
      "Entered Number is:  5\n",
      "Factorial of the number is: \n",
      "120\n"
     ]
    }
   ],
   "source": [
    "#Factorial Calculator\n",
    "def factorial(n):\n",
    "    if n == 0:\n",
    "        return 1\n",
    "    else:\n",
    "        return n * factorial(n-1)\n",
    "\n",
    "number = int(input(\"Enter a number: \"))\n",
    "print(\"Entered Number is: \", number)\n",
    "print(\"Factorial of the number is: \")\n",
    "print(factorial(number))"
   ]
  },
  {
   "cell_type": "markdown",
   "metadata": {},
   "source": []
  }
 ],
 "metadata": {
  "kernelspec": {
   "display_name": "TTL",
   "language": "python",
   "name": "python3"
  },
  "language_info": {
   "codemirror_mode": {
    "name": "ipython",
    "version": 3
   },
   "file_extension": ".py",
   "mimetype": "text/x-python",
   "name": "python",
   "nbconvert_exporter": "python",
   "pygments_lexer": "ipython3",
   "version": "3.10.12"
  }
 },
 "nbformat": 4,
 "nbformat_minor": 2
}
