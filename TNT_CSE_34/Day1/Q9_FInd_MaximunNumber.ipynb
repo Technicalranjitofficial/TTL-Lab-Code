{
 "cells": [
  {
   "cell_type": "code",
   "execution_count": 2,
   "metadata": {},
   "outputs": [
    {
     "name": "stdout",
     "output_type": "stream",
     "text": [
      "Maximum Number is:  3\n"
     ]
    }
   ],
   "source": [
    "#Find Maximum of Three Numbers:\n",
    "def FindMaxNumber():\n",
    "    number1 = int(input(\"Enter First Number: \"))\n",
    "    number2 = int(input(\"Enter Second Number: \"))\n",
    "    number3 = int(input(\"Enter Third Number: \"))\n",
    "    if number1 > number2 and number1 > number3:\n",
    "        print(\"Maximum Number is: \", number1)\n",
    "    elif number2 > number1 and number2 > number3:\n",
    "        print(\"Maximum Number is: \", number2)\n",
    "    else:\n",
    "        print(\"Maximum Number is: \", number3)\n",
    "        \n",
    "FindMaxNumber()"
   ]
  }
 ],
 "metadata": {
  "kernelspec": {
   "display_name": "TTL",
   "language": "python",
   "name": "python3"
  },
  "language_info": {
   "codemirror_mode": {
    "name": "ipython",
    "version": 3
   },
   "file_extension": ".py",
   "mimetype": "text/x-python",
   "name": "python",
   "nbconvert_exporter": "python",
   "pygments_lexer": "ipython3",
   "version": "3.10.12"
  }
 },
 "nbformat": 4,
 "nbformat_minor": 2
}
