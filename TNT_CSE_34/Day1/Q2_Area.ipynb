{
 "cells": [
  {
   "cell_type": "code",
   "execution_count": 2,
   "metadata": {},
   "outputs": [
    {
     "name": "stdout",
     "output_type": "stream",
     "text": [
      "Enter the radius of the circle\n",
      "Area of the circle is  28.259999999999998\n"
     ]
    }
   ],
   "source": [
    "# Finding the Area of Rectangle\n",
    "\n",
    "def Area():\n",
    "    print(\"Enter the radius of the circle\")\n",
    "    radius = float(input())\n",
    "    area = 3.14 * radius * radius\n",
    "    print(\"Area of the circle is \", area)\n",
    "    \n",
    "Area()"
   ]
  }
 ],
 "metadata": {
  "kernelspec": {
   "display_name": "TTL",
   "language": "python",
   "name": "python3"
  },
  "language_info": {
   "codemirror_mode": {
    "name": "ipython",
    "version": 3
   },
   "file_extension": ".py",
   "mimetype": "text/x-python",
   "name": "python",
   "nbconvert_exporter": "python",
   "pygments_lexer": "ipython3",
   "version": "3.10.12"
  }
 },
 "nbformat": 4,
 "nbformat_minor": 2
}
