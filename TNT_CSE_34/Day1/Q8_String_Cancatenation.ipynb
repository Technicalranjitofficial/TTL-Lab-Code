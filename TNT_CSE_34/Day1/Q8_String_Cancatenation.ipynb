{
 "cells": [
  {
   "cell_type": "code",
   "execution_count": 1,
   "metadata": {},
   "outputs": [
    {
     "name": "stdout",
     "output_type": "stream",
     "text": [
      "HelloWorld\n"
     ]
    }
   ],
   "source": [
    "#String Concatenation\n",
    "\n",
    "def StringCanCatenation():\n",
    "    string1 = input(\"Enter the string 1\")\n",
    "    string2 = input(\"Enter the string 2\")\n",
    "    string3 = string1 + string2\n",
    "    print(string3)\n",
    "StringCanCatenation()"
   ]
  }
 ],
 "metadata": {
  "kernelspec": {
   "display_name": "TTL",
   "language": "python",
   "name": "python3"
  },
  "language_info": {
   "codemirror_mode": {
    "name": "ipython",
    "version": 3
   },
   "file_extension": ".py",
   "mimetype": "text/x-python",
   "name": "python",
   "nbconvert_exporter": "python",
   "pygments_lexer": "ipython3",
   "version": "3.10.12"
  }
 },
 "nbformat": 4,
 "nbformat_minor": 2
}
