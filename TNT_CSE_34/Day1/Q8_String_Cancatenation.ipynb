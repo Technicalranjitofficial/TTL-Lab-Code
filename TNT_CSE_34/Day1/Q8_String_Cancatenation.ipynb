{
 "cells": [
  {
   "cell_type": "code",
   "execution_count": null,
   "metadata": {},
   "outputs": [],
   "source": [
    "#String Concatenation\n",
    "\n",
    "def StringCanCatenation():\n",
    "    string1 = input(\"Enter the string 1\")\n",
    "    string2 = input(\"Enter the string 2\")\n",
    "    string3 = string1 + string2\n",
    "    print(string3)\n",
    "StringCanCatenation()"
   ]
  }
 ],
 "metadata": {
  "language_info": {
   "name": "python"
  }
 },
 "nbformat": 4,
 "nbformat_minor": 2
}
