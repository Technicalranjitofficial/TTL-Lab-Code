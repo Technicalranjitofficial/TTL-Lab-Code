{
 "cells": [
  {
   "cell_type": "code",
   "execution_count": null,
   "metadata": {},
   "outputs": [],
   "source": [
    "# convert celcius to fahrenheit\n",
    "\n",
    "def convertCelciusToFarhenheit():\n",
    "    print(\"Enter the temperature in celcius\")\n",
    "    celcius = float(input())\n",
    "    fahrenheit = (celcius * 9/5) + 32\n",
    "    print(\"Temperature in fahrenheit is \", fahrenheit)\n",
    "    \n",
    "convertCelciusToFarhenheit()"
   ]
  }
 ],
 "metadata": {
  "language_info": {
   "name": "python"
  }
 },
 "nbformat": 4,
 "nbformat_minor": 2
}
