{
 "cells": [
  {
   "cell_type": "code",
   "execution_count": 1,
   "metadata": {},
   "outputs": [],
   "source": [
    "#Simple Interest Calculator\n",
    "def SimpleInterestCalculator():\n",
    "    p = float(input(\"Enter the Principal Amount: \"))\n",
    "    r = float(input(\"Enter the Rate of Interest: \"))\n",
    "    t = float(input(\"Enter the Time Period: \"))\n",
    "    si = (p * r * t) / 100\n",
    "    print(\"The Simple Interest is: \", si)\n",
    "SimpleInterestCalculator()"
   ]
  }
 ],
 "metadata": {
  "kernelspec": {
   "display_name": "TTL",
   "language": "python",
   "name": "python3"
  },
  "language_info": {
   "codemirror_mode": {
    "name": "ipython",
    "version": 3
   },
   "file_extension": ".py",
   "mimetype": "text/x-python",
   "name": "python",
   "nbconvert_exporter": "python",
   "pygments_lexer": "ipython3",
   "version": "3.10.12"
  }
 },
 "nbformat": 4,
 "nbformat_minor": 2
}
