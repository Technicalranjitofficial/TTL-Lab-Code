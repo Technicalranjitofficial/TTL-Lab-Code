{
 "cells": [
  {
   "cell_type": "code",
   "execution_count": 2,
   "metadata": {},
   "outputs": [
    {
     "name": "stdout",
     "output_type": "stream",
     "text": [
      "Root 1: (-0.4+0.6633249580710799j)\n",
      "Root 2: (-0.4-0.6633249580710799j)\n"
     ]
    }
   ],
   "source": [
    "import cmath\n",
    "def quadratic_solver(a, b, c):\n",
    "    delta = cmath.sqrt(b**2 - 4*a*c)\n",
    "\n",
    "    root1 = (-b + delta) / (2 * a)\n",
    "    root2 = (-b - delta) / (2 * a)\n",
    "\n",
    "    return root1, root2\n",
    "\n",
    "a = float(input(\"Enter the coefficient a: \"))\n",
    "b = float(input(\"Enter the coefficient b: \"))\n",
    "c = float(input(\"Enter the coefficient c: \"))\n",
    "\n",
    "roots = quadratic_solver(a, b, c)\n",
    "print(\"Root 1:\", roots[0])\n",
    "print(\"Root 2:\", roots[1])\n"
   ]
  }
 ],
 "metadata": {
  "kernelspec": {
   "display_name": "TTL",
   "language": "python",
   "name": "python3"
  },
  "language_info": {
   "codemirror_mode": {
    "name": "ipython",
    "version": 3
   },
   "file_extension": ".py",
   "mimetype": "text/x-python",
   "name": "python",
   "nbconvert_exporter": "python",
   "pygments_lexer": "ipython3",
   "version": "3.10.12"
  }
 },
 "nbformat": 4,
 "nbformat_minor": 2
}
