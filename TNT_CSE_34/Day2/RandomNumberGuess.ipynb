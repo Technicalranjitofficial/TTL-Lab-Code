{
 "cells": [
  {
   "cell_type": "code",
   "execution_count": 5,
   "metadata": {},
   "outputs": [
    {
     "ename": "SyntaxError",
     "evalue": "invalid syntax (1008584776.py, line 18)",
     "output_type": "error",
     "traceback": [
      "\u001b[0;36m  Cell \u001b[0;32mIn[5], line 18\u001b[0;36m\u001b[0m\n\u001b[0;31m    print(\"Sorry, guess again. Too high.\")3\u001b[0m\n\u001b[0m                                          ^\u001b[0m\n\u001b[0;31mSyntaxError\u001b[0m\u001b[0;31m:\u001b[0m invalid syntax\n"
     ]
    }
   ],
   "source": [
    "#Generate a randim Number\n",
    "#use the random number module to generate a random number between specific range.This will be number to be guessed by the user.\n",
    "#Use while loop to repeat the guessing process until the user guesses correctly.\n",
    "#Use if-else statement to check whether the user has guessed correctly, too high or too low.\n",
    "#introduce flow control to exit the loop when the user guesses correctly. and exit after 5 guesses.\n",
    "import random\n",
    "def GuessNumber(range):\n",
    "    random_number=random.randint(1,range)\n",
    "    print(f\"random_number is {random_number}\")\n",
    "    guess=-1\n",
    "    count = 0\n",
    "    while guess != random_number and count != 5:\n",
    "        guess=int(input(f\"Guess a number between 1 and {range}: \"))\n",
    "        count += 1\n",
    "        if guess < random_number:\n",
    "            print(\"Too low.\")\n",
    "        elif guess > random_number:\n",
    "            print(\" Too high.\")\n",
    "        else:\n",
    "            print(\"You guessed it!\")\n",
    "            break\n",
    "GuessNumber(10)\n",
    "    "
   ]
  }
 ],
 "metadata": {
  "kernelspec": {
   "display_name": "TTL",
   "language": "python",
   "name": "python3"
  },
  "language_info": {
   "codemirror_mode": {
    "name": "ipython",
    "version": 3
   },
   "file_extension": ".py",
   "mimetype": "text/x-python",
   "name": "python",
   "nbconvert_exporter": "python",
   "pygments_lexer": "ipython3",
   "version": "3.10.12"
  }
 },
 "nbformat": 4,
 "nbformat_minor": 2
}
